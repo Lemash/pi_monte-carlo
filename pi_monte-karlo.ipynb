{
 "cells": [
  {
   "cell_type": "markdown",
   "id": "e86f6408-071c-4bbe-98c9-4318a2e40594",
   "metadata": {},
   "source": [
    "# Расчет числа pi\n"
   ]
  },
  {
   "cell_type": "code",
   "execution_count": 3,
   "id": "7d550a81-2c33-4c8b-8120-cb4015b5cd3a",
   "metadata": {},
   "outputs": [
    {
     "name": "stdout",
     "output_type": "stream",
     "text": [
      "Requirement already satisfied: matplotlib in ./venv/lib/python3.10/site-packages (3.10.1)\n",
      "Requirement already satisfied: pyparsing>=2.3.1 in ./venv/lib/python3.10/site-packages (from matplotlib) (3.2.3)\n",
      "Requirement already satisfied: python-dateutil>=2.7 in ./venv/lib/python3.10/site-packages (from matplotlib) (2.9.0.post0)\n",
      "Requirement already satisfied: pillow>=8 in ./venv/lib/python3.10/site-packages (from matplotlib) (11.2.1)\n",
      "Requirement already satisfied: cycler>=0.10 in ./venv/lib/python3.10/site-packages (from matplotlib) (0.12.1)\n",
      "Requirement already satisfied: fonttools>=4.22.0 in ./venv/lib/python3.10/site-packages (from matplotlib) (4.57.0)\n",
      "Requirement already satisfied: packaging>=20.0 in ./venv/lib/python3.10/site-packages (from matplotlib) (25.0)\n",
      "Requirement already satisfied: contourpy>=1.0.1 in ./venv/lib/python3.10/site-packages (from matplotlib) (1.3.2)\n",
      "Requirement already satisfied: kiwisolver>=1.3.1 in ./venv/lib/python3.10/site-packages (from matplotlib) (1.4.8)\n",
      "Requirement already satisfied: numpy>=1.23 in ./venv/lib/python3.10/site-packages (from matplotlib) (2.2.5)\n",
      "Requirement already satisfied: six>=1.5 in ./venv/lib/python3.10/site-packages (from python-dateutil>=2.7->matplotlib) (1.17.0)\n"
     ]
    }
   ],
   "source": [
    "!pip install matplotlib numpy ipympl"
   ]
  },
  {
   "cell_type": "code",
   "execution_count": 9,
   "id": "d5e36a0f-4f2b-4fb8-8e9b-3943b68ecee3",
   "metadata": {},
   "outputs": [],
   "source": [
    "import random\n",
    "\n",
    "def monte_carlo_pi(number_of_points):\n",
    "    n_in_circle = 0\n",
    "    for _ in range(number_of_points):\n",
    "        x = random.uniform(-1, 1)\n",
    "        y = random.uniform(-1, 1)\n",
    "        if x**2 + y**2 <= 1:\n",
    "         n_in_circle = n_in_circle + 1\n",
    "    \n",
    "    return(4 * n_in_circle / number_of_points)\n",
    "\n",
    "\n",
    "for n in (10_000, 100_000, 10_000_000):\n",
    "    print(n, monte_carlo_pi(n))"
   ]
  },
  {
   "cell_type": "code",
   "execution_count": null,
   "id": "db46a66a-e49c-4a4c-8385-918be5711f1a",
   "metadata": {},
   "outputs": [],
   "source": []
  },
  {
   "cell_type": "code",
   "execution_count": 19,
   "id": "16afe4ef-173f-4d6e-b7a1-71255a904af3",
   "metadata": {},
   "outputs": [],
   "source": [
    "%matplotlib widget"
   ]
  },
  {
   "cell_type": "code",
   "execution_count": 20,
   "id": "22c6cc58-6ab7-41c8-b863-efbfc84c6754",
   "metadata": {},
   "outputs": [],
   "source": [
    "import matplotlib.pyplot as plt\n",
    "import matplotlib.animation as animation\n",
    "\n",
    "# Размер выборки\n",
    "number_of_points = 5000  # Можно уменьшить для быстрой анимации\n",
    "\n",
    "# Храним координаты\n",
    "points_inside = []\n",
    "points_outside = []"
   ]
  },
  {
   "cell_type": "code",
   "execution_count": 22,
   "id": "f8ea779d-44f3-4d13-abec-c34c47238537",
   "metadata": {},
   "outputs": [
    {
     "data": {
      "application/vnd.jupyter.widget-view+json": {
       "model_id": "f8def02cb46b45bc973958727e3bdffc",
       "version_major": 2,
       "version_minor": 0
      },
      "image/png": "[encoded data removed]",
      "text/html": [
       "\n",
       "            <div style=\"display: inline-block;\">\n",
       "                <div class=\"jupyter-widgets widget-label\" style=\"text-align: center;\">\n",
       "                    Figure\n",
       "                </div>\n",
       "                <img src='data:image/png;base64,iVBORw0KGgoAAAANSUhEUgAAAlgAAAJYCAYAAAC+ZpjcAAAAOnRFWHRTb2Z0d2FyZQBNYXRwbG90bGliIHZlcnNpb24zLjEwLjEsIGh0dHBzOi8vbWF0cGxvdGxpYi5vcmcvc2/+5QAAAAlwSFlzAAAPYQAAD2EBqD+naQAAIM1JREFUeJzt3W1snfV5+PErdrANKjbpsjgPM82go7QFEpoQz1CEmLxaAqXLi6kZoCSLeBglQzTWVhICcSlrnDGKIpXQiBRGX5QlbQWoaqJQ5jaqKJ6i5kGiIwGlgSarapOsw85Cayf2/X+xP97cODQOV2yO/flI54V/3LfPdX44OV/d5+R4QlEURQAAkKZstAcAABhrBBYAQDKBBQCQTGABACQTWAAAyQQWAEAygQUAkExgAQAkE1gAAMkEFgBAMoEFAJBMYAEAJBNYAADJBBYAQDKBBQCQTGABACQTWAAAyQQWAEAygQUAkExgAQAkE1gAAMkEFgBAMoEFAJBMYAEAJBNYAADJBBYAQDKBBQCQTGABACQTWAAAyQQWAEAygQUAkExgAQAkE1gAAMkEFgBAMoEFAJBMYAEAJBNYAADJBBYAQDKBBQCQTGABACQTWAAAyQQWAEAygQUAkExgAQAkE1gAAMkEFgBAMoEFAJBMYAEAJBNYAADJBBYAQDKBBQCQTGABACQTWAAAyQQWAEAygQUAkExgAQAkE1gAAMkEFgBAMoEFAJBMYAEAJBNYAADJBBYAQDKBBQCQTGABACQTWAAAyQQWAEAygQUAkKwkA+vHP/5xzJ8/P6ZPnx4TJkyI559//vees3379vjUpz4VlZWV8dGPfjSefvrpsz4nADA+lWRgHTt2LGbNmhXr168/rePfeOONuPHGG+P666+PPXv2xBe+8IW47bbb4oUXXjjLkwIA49GEoiiK0R7i/ZgwYUI899xzsWDBglMec++998aWLVviZz/72cDaX/3VX8Xbb78d27ZtG4EpAYDxZOJoDzAS2tvbo7GxcdBaU1NTfOELXzjlOT09PdHT0zPwdX9/f/z617+OP/iDP4gJEyacrVEBYMwpiiKOHj0a06dPj7KyknzxbNjGRWB1dHREbW3toLXa2tro7u6O3/zmN3HuueeedE5ra2s8+OCDIzUiAIx5hw4dij/6oz8a7TFGxLgIrDOxcuXKaG5uHvi6q6srLrzwwjh06FBUV1eP4mQAUFq6u7ujrq4uzj///NEeZcSMi8CaOnVqdHZ2Dlrr7OyM6urqIa9eRURUVlZGZWXlSevV1dUCCwDOwHh6i824eCG0oaEh2traBq29+OKL0dDQMEoTAQBjWUkG1n//93/Hnj17Ys+ePRHxPx/DsGfPnjh48GBE/M/Le4sXLx44/s4774wDBw7EF7/4xdi3b188/vjj8e1vfzuWL18+GuMDAGNcSQbWT3/607jyyivjyiuvjIiI5ubmuPLKK2P16tUREfGrX/1qILYiIv74j/84tmzZEi+++GLMmjUrvvrVr8Y3vvGNaGpqGpX5AYCxreQ/B2ukdHd3R01NTXR1dXkPFgAMw3h8Di3JK1gAAB9kAgsAIJnAAgBIJrAAAJIJLACAZAILACCZwAIASCawAACSCSwAgGQCCwAgmcACAEgmsAAAkgksAIBkAgsAIJnAAgBIJrAAAJIJLACAZAILACCZwAIASCawAACSCSwAgGQCCwAgmcACAEgmsAAAkgksAIBkAgsAIJnAAgBIJrAAAJIJLACAZAILACCZwAIASCawAACSCSwAgGQCCwAgmcACAEgmsAAAkgksAIBkAgsAIJnAAgBIJrAAAJIJLACAZAILACCZwAIASCawAACSCSwAgGQCCwAgmcACAEgmsAAAkgksAIBkAgsAIJnAAgBIJrAAAJIJLACAZAILACCZwAIASCawAACSCSwAgGQCCwAgmcACAEgmsAAAkgksAIBkAgsAIJnAAgBIJrAAAJIJLACAZAILACCZwAIASCawAACSCSwAgGQCCwAgmcACAEgmsAAAkgksAIBkAgsAIJnAAgBIJrAAAJIJLACAZAILACCZwAIASCawAACSCSwAgGQlG1jr16+PmTNnRlVVVdTX18eOHTve8/h169bFxz72sTj33HOjrq4uli9fHr/97W9HaFoAYDwpycDavHlzNDc3R0tLS+zatStmzZoVTU1N8dZbbw15/DPPPBMrVqyIlpaW2Lt3bzz55JOxefPmuO+++0Z4cgBgPCjJwHr00Ufj9ttvj6VLl8YnPvGJ2LBhQ5x33nnx1FNPDXn8yy+/HNdcc03cfPPNMXPmzPjMZz4TN9100++96gUAcCZKLrB6e3tj586d0djYOLBWVlYWjY2N0d7ePuQ5V199dezcuXMgqA4cOBBbt26NG2644ZT309PTE93d3YNuAACnY+JoDzBcR44cib6+vqitrR20XltbG/v27RvynJtvvjmOHDkSn/70p6Moijhx4kTceeed7/kSYWtrazz44IOpswMA40PJXcE6E9u3b481a9bE448/Hrt27Ypnn302tmzZEg899NApz1m5cmV0dXUN3A4dOjSCEwMApazkrmBNnjw5ysvLo7Ozc9B6Z2dnTJ06dchzHnjggVi0aFHcdtttERFx+eWXx7Fjx+KOO+6IVatWRVnZyZ1ZWVkZlZWV+Q8AABjzSu4KVkVFRcyZMyfa2toG1vr7+6OtrS0aGhqGPOedd945KaLKy8sjIqIoirM3LAAwLpXcFayIiObm5liyZEnMnTs35s2bF+vWrYtjx47F0qVLIyJi8eLFMWPGjGhtbY2IiPnz58ejjz4aV155ZdTX18f+/fvjgQceiPnz5w+EFgBAlpIMrIULF8bhw4dj9erV0dHREbNnz45t27YNvPH94MGDg65Y3X///TFhwoS4//7745e//GX84R/+YcyfPz++8pWvjNZDAADGsAmF18hOS3d3d9TU1ERXV1dUV1eP9jgAUDLG43Noyb0HCwDgg05gAQAkE1gAAMkEFgBAMoEFAJBMYAEAJBNYAADJBBYAQDKBBQCQTGABACQTWAAAyQQWAEAygQUAkExgAQAkE1gAAMkEFgBAMoEFAJBMYAEAJBNYAADJBBYAQDKBBQCQTGABACQTWAAAyQQWAEAygQUAkExgAQAkE1gAAMkEFgBAMoEFAJBMYAEAJBNYAADJBBYAQDKBBQCQTGABACQTWAAAyQQWAEAygQUAkExgAQAkE1gAAMkEFgBAMoEFAJBMYAEAJBNYAADJBBYAQDKBBQCQTGABACQTWAAAyQQWAEAygQUAkExgAQAkE1gAAMkEFgBAMoEFAJBMYAEAJBNYAADJBBYAQDKBBQCQTGABACQTWAAAyQQWAEAygQUAkExgAQAkE1gAAMkEFgBAMoEFAJBMYAEAJBNYAADJBBYAQDKBBQCQTGABACQTWAAAyQQWAEAygQUAkExgAQAkE1gAAMkEFgBAMoEFAJBMYAEAJBNYAADJBBYAQDKBBQCQrGQDa/369TFz5syoqqqK+vr62LFjx3se//bbb8eyZcti2rRpUVlZGZdcckls3bp1hKYFAMaTiaM9wJnYvHlzNDc3x4YNG6K+vj7WrVsXTU1N8dprr8WUKVNOOr63tzf+/M//PKZMmRLf/e53Y8aMGfGLX/wiLrjggpEfHgAY8yYURVGM9hDDVV9fH1dddVU89thjERHR398fdXV1cffdd8eKFStOOn7Dhg3xT//0T7Fv374455xzzug+u7u7o6amJrq6uqK6uvp9zQ8A48l4fA4tuZcIe3t7Y+fOndHY2DiwVlZWFo2NjdHe3j7kOd/73veioaEhli1bFrW1tXHZZZfFmjVroq+vb6TGBgDGkZJ7ifDIkSPR19cXtbW1g9Zra2tj3759Q55z4MCB+OEPfxi33HJLbN26Nfbv3x933XVXHD9+PFpaWoY8p6enJ3p6ega+7u7uznsQAMCYVnJXsM5Ef39/TJkyJZ544omYM2dOLFy4MFatWhUbNmw45Tmtra1RU1MzcKurqxvBiQGAUlZygTV58uQoLy+Pzs7OQeudnZ0xderUIc+ZNm1aXHLJJVFeXj6w9vGPfzw6Ojqit7d3yHNWrlwZXV1dA7dDhw7lPQgAYEwrucCqqKiIOXPmRFtb28Baf39/tLW1RUNDw5DnXHPNNbF///7o7+8fWHv99ddj2rRpUVFRMeQ5lZWVUV1dPegGAHA6Si6wIiKam5tj48aN8c1vfjP27t0bn//85+PYsWOxdOnSiIhYvHhxrFy5cuD4z3/+8/HrX/867rnnnnj99ddjy5YtsWbNmli2bNloPQQAYAwruTe5R0QsXLgwDh8+HKtXr46Ojo6YPXt2bNu2beCN7wcPHoyysv9tx7q6unjhhRdi+fLlccUVV8SMGTPinnvuiXvvvXe0HgIAMIaV5OdgjYbx+BkeAJBhPD6HluRLhAAAH2QCCwAgmcACAEgmsAAAkgksAIBkAgsAIJnAAgBIJrAAAJIJLACAZAILACCZwAIASCawAACSCSwAgGQCCwAgmcACAEgmsAAAkgksAIBkAgsAIJnAAgBIJrAAAJIJLACAZAILACCZwAIASCawAACSCSwAgGQCCwAgmcACAEgmsAAAkgksAIBkAgsAIJnAAgBIJrAAAJIJLACAZAILACCZwAIASCawAACSCSwAgGQCCwAgmcACAEgmsAAAkgksAIBkAgsAIJnAAgBIJrAAAJIJLACAZAILACCZwAIASCawAACSCSwAgGQCCwAgmcACAEgmsAAAkgksAIBkAgsAIJnAAgBIJrAAAJIJLACAZAILACCZwAIASCawAACSCSwAgGQCCwAgmcACAEgmsAAAkgksAIBkAgsAIJnAAgBIJrAAAJIJLACAZAILACCZwAIASCawAACSCSwAgGQCCwAgmcACAEgmsAAAkgksAIBkAgsAIJnAAgBIJrAAAJIJLACAZAILACBZyQbW+vXrY+bMmVFVVRX19fWxY8eO0zpv06ZNMWHChFiwYMHZHRAAGLdKMrA2b94czc3N0dLSErt27YpZs2ZFU1NTvPXWW+953ptvvhl/93d/F9dee+0ITQoAjEclGViPPvpo3H777bF06dL4xCc+ERs2bIjzzjsvnnrqqVOe09fXF7fccks8+OCDcdFFF43gtADAeFNygdXb2xs7d+6MxsbGgbWysrJobGyM9vb2U5735S9/OaZMmRK33nrrad1PT09PdHd3D7oBAJyOkgusI0eORF9fX9TW1g5ar62tjY6OjiHPeemll+LJJ5+MjRs3nvb9tLa2Rk1NzcCtrq7ufc0NAIwfJRdYw3X06NFYtGhRbNy4MSZPnnza561cuTK6uroGbocOHTqLUwIAY8nE0R5guCZPnhzl5eXR2dk5aL2zszOmTp160vE///nP480334z58+cPrPX390dExMSJE+O1116Liy+++KTzKisro7KyMnl6AGA8KLkrWBUVFTFnzpxoa2sbWOvv74+2trZoaGg46fhLL700XnnlldizZ8/A7bOf/Wxcf/31sWfPHi/9AQDpSu4KVkREc3NzLFmyJObOnRvz5s2LdevWxbFjx2Lp0qUREbF48eKYMWNGtLa2RlVVVVx22WWDzr/gggsiIk5aBwDIUJKBtXDhwjh8+HCsXr06Ojo6Yvbs2bFt27aBN74fPHgwyspK7uIcADBGTCiKohjtIUpBd3d31NTURFdXV1RXV4/2OABQMsbjc6jLPAAAyQQWAEAygQUAkExgAQAkE1gAAMkEFgBAMoEFAJBMYAEAJBNYAADJBBYAQDKBBQCQTGABACQTWAAAyQQWAEAygQUAkExgAQAkE1gAAMkEFgBAMoEFAJBMYAEAJBNYAADJBBYAQDKBBQCQTGABACQTWAAAyQQWAEAygQUAkExgAQAkE1gAAMkEFgBAMoEFAJBMYAEAJBNYAADJBBYAQDKBBQCQTGABACQTWAAAyQQWAEAygQUAkExgAQAkE1gAAMkEFgBAMoEFAJBMYAEAJBNYAADJBBYAQDKBBQCQTGABACQTWAAAyQQWAEAygQUAkExgAQAkE1gAAMkEFgBAMoEFAJBMYAEAJBNYAADJBBYAQDKBBQCQTGABACQTWAAAyQQWAEAygQUAkExgAQAkE1gAAMkEFgBAMoEFAJBMYAEAJBNYAADJBBYAQDKBBQCQTGABACQTWAAAyQQWAEAygQUAkExgAQAkE1gAAMkEFgBAMoEFAJBMYAEAJBNYAADJSjaw1q9fHzNnzoyqqqqor6+PHTt2nPLYjRs3xrXXXhuTJk2KSZMmRWNj43seDwDwfpRkYG3evDmam5ujpaUldu3aFbNmzYqmpqZ46623hjx++/btcdNNN8WPfvSjaG9vj7q6uvjMZz4Tv/zlL0d4cgBgPJhQFEUx2kMMV319fVx11VXx2GOPRUREf39/1NXVxd133x0rVqz4vef39fXFpEmT4rHHHovFixef1n12d3dHTU1NdHV1RXV19fuaHwDGk/H4HFpyV7B6e3tj586d0djYOLBWVlYWjY2N0d7eflrf45133onjx4/Hhz/84bM1JgAwjk0c7QGG68iRI9HX1xe1tbWD1mtra2Pfvn2n9T3uvffemD59+qBI+109PT3R09Mz8HV3d/eZDQwAjDsldwXr/Vq7dm1s2rQpnnvuuaiqqjrlca2trVFTUzNwq6urG8EpAYBSVnKBNXny5CgvL4/Ozs5B652dnTF16tT3PPeRRx6JtWvXxg9+8IO44oor3vPYlStXRldX18Dt0KFD73t2AGB8KLnAqqioiDlz5kRbW9vAWn9/f7S1tUVDQ8Mpz3v44YfjoYceim3btsXcuXN/7/1UVlZGdXX1oBsAwOkoufdgRUQ0NzfHkiVLYu7cuTFv3rxYt25dHDt2LJYuXRoREYsXL44ZM2ZEa2trRET84z/+Y6xevTqeeeaZmDlzZnR0dERExIc+9KH40Ic+NGqPAwAYm0oysBYuXBiHDx+O1atXR0dHR8yePTu2bds28Mb3gwcPRlnZ/16c+/rXvx69vb3xl3/5l4O+T0tLS3zpS18aydEBgHGgJD8HazSMx8/wAIAM4/E5tOTegwUA8EEnsAAAkgksAIBkAgsAIJnAAgBIJrAAAJIJLACAZAILACCZwAIASCawAACSCSwAgGQCCwAgmcACAEgmsAAAkgksAIBkAgsAIJnAAgBIJrAAAJIJLACAZAILACCZwAIASCawAACSCSwAgGQCCwAgmcACAEgmsAAAkgksAIBkAgsAIJnAAgBIJrAAAJIJLACAZAILACCZwAIASCawAACSCSwAgGQCCwAgmcACAEgmsAAAkgksAIBkAgsAIJnAAgBIJrAAAJIJLACAZAILACCZwAIASCawAACSCSwAgGQCCwAgmcACAEgmsAAAkgksAIBkAgsAIJnAAgBIJrAAAJIJLACAZAILACCZwAIASCawAACSCSwAgGQCCwAgmcACAEgmsAAAkgksAIBkAgsAIJnAAgBIJrAAAJIJLACAZAILACCZwAIASCawAACSCSwAgGQCCwAgmcACAEgmsAAAkgksAIBkAgsAIJnAAgBIJrAAAJIJLACAZAILACCZwAIASCawAACSlWxgrV+/PmbOnBlVVVVRX18fO3bseM/jv/Od78Sll14aVVVVcfnll8fWrVtHaFIAYLwpycDavHlzNDc3R0tLS+zatStmzZoVTU1N8dZbbw15/Msvvxw33XRT3HrrrbF79+5YsGBBLFiwIH72s5+N8OQAwHgwoSiKYrSHGK76+vq46qqr4rHHHouIiP7+/qirq4u77747VqxYcdLxCxcujGPHjsX3v//9gbU//dM/jdmzZ8eGDRtO6z67u7ujpqYmurq6orq6OueBAMA4MB6fQyeO9gDD1dvbGzt37oyVK1cOrJWVlUVjY2O0t7cPeU57e3s0NzcPWmtqaornn3/+lPfT09MTPT09A193dXVFxP/8kAAAp+/d584SvKZzxkousI4cORJ9fX1RW1s7aL22tjb27ds35DkdHR1DHt/R0XHK+2ltbY0HH3zwpPW6urozmBoA+M///M+oqakZ7TFGRMkF1khZuXLloKteb7/9dnzkIx+JgwcPjpsfjtHW3d0ddXV1cejQoXFzSXm02fORZ89Hnj0feV1dXXHhhRfGhz/84dEeZcSUXGBNnjw5ysvLo7Ozc9B6Z2dnTJ06dchzpk6dOqzjIyIqKyujsrLypPWamhp/IEdYdXW1PR9h9nzk2fORZ89HXllZSf7bujNSco+0oqIi5syZE21tbQNr/f390dbWFg0NDUOe09DQMOj4iIgXX3zxlMcDALwfJXcFKyKiubk5lixZEnPnzo158+bFunXr4tixY7F06dKIiFi8eHHMmDEjWltbIyLinnvuieuuuy6++tWvxo033hibNm2Kn/70p/HEE0+M5sMAAMaokgyshQsXxuHDh2P16tXR0dERs2fPjm3btg28kf3gwYODLkNeffXV8cwzz8T9998f9913X/zJn/xJPP/883HZZZed9n1WVlZGS0vLkC8bcnbY85Fnz0eePR959nzkjcc9L8nPwQIA+CArufdgAQB80AksAIBkAgsAIJnAAgBIJrD+j/Xr18fMmTOjqqoq6uvrY8eOHe95/He+85249NJLo6qqKi6//PLYunXrCE06dgxnzzdu3BjXXnttTJo0KSZNmhSNjY2/9/8RJxvuz/m7Nm3aFBMmTIgFCxac3QHHoOHu+dtvvx3Lli2LadOmRWVlZVxyySX+fhmm4e75unXr4mMf+1ice+65UVdXF8uXL4/f/va3IzRt6fvxj38c8+fPj+nTp8eECRPe83f9vmv79u3xqU99KiorK+OjH/1oPP3002d9zhFVUBRFUWzatKmoqKgonnrqqeLf//3fi9tvv7244IILis7OziGP/8lPflKUl5cXDz/8cPHqq68W999/f3HOOecUr7zyyghPXrqGu+c333xzsX79+mL37t3F3r17i7/+678uampqiv/4j/8Y4clL13D3/F1vvPFGMWPGjOLaa68t/uIv/mJkhh0jhrvnPT09xdy5c4sbbriheOmll4o33nij2L59e7Fnz54Rnrx0DXfPv/WtbxWVlZXFt771reKNN94oXnjhhWLatGnF8uXLR3jy0rV169Zi1apVxbPPPltERPHcc8+95/EHDhwozjvvvKK5ubl49dVXi6997WtFeXl5sW3btpEZeAQIrP9v3rx5xbJlywa+7uvrK6ZPn160trYOefznPve54sYbbxy0Vl9fX/zN3/zNWZ1zLBnunv+uEydOFOeff37xzW9+82yNOOacyZ6fOHGiuPrqq4tvfOMbxZIlSwTWMA13z7/+9a8XF110UdHb2ztSI445w93zZcuWFX/2Z382aK25ubm45pprzuqcY9XpBNYXv/jF4pOf/OSgtYULFxZNTU1ncbKR5SXCiOjt7Y2dO3dGY2PjwFpZWVk0NjZGe3v7kOe0t7cPOj4ioqmp6ZTHM9iZ7Pnveuedd+L48ePj6peHvh9nuudf/vKXY8qUKXHrrbeOxJhjypns+fe+971oaGiIZcuWRW1tbVx22WWxZs2a6OvrG6mxS9qZ7PnVV18dO3fuHHgZ8cCBA7F169a44YYbRmTm8Wg8PIeW5Ce5Zzty5Ej09fUNfBL8u2pra2Pfvn1DntPR0THk8R0dHWdtzrHkTPb8d917770xffr0k/6QMrQz2fOXXnopnnzyydizZ88ITDj2nMmeHzhwIH74wx/GLbfcElu3bo39+/fHXXfdFcePH4+WlpaRGLukncme33zzzXHkyJH49Kc/HUVRxIkTJ+LOO++M++67byRGHpdO9Rza3d0dv/nNb+Lcc88dpcnyuIJFSVq7dm1s2rQpnnvuuaiqqhrtccako0ePxqJFi2Ljxo0xefLk0R5n3Ojv748pU6bEE088EXPmzImFCxfGqlWrYsOGDaM92pi1ffv2WLNmTTz++OOxa9euePbZZ2PLli3x0EMPjfZolDBXsCJi8uTJUV5eHp2dnYPWOzs7Y+rUqUOeM3Xq1GEdz2BnsufveuSRR2Lt2rXxr//6r3HFFVeczTHHlOHu+c9//vN48803Y/78+QNr/f39ERExceLEeO211+Liiy8+u0OXuDP5OZ82bVqcc845UV5ePrD28Y9/PDo6OqK3tzcqKirO6syl7kz2/IEHHohFixbFbbfdFhERl19+eRw7dizuuOOOWLVq1aDfbUuOUz2HVldXj4mrVxGuYEVEREVFRcyZMyfa2toG1vr7+6OtrS0aGhqGPKehoWHQ8RERL7744imPZ7Az2fOIiIcffjgeeuih2LZtW8ydO3ckRh0zhrvnl156abzyyiuxZ8+egdtnP/vZuP7662PPnj1RV1c3kuOXpDP5Ob/mmmti//79AzEbEfH666/HtGnTxNVpOJM9f+edd06KqHcDt/Dres+KcfEcOtrvsv+g2LRpU1FZWVk8/fTTxauvvlrccccdxQUXXFB0dHQURVEUixYtKlasWDFw/E9+8pNi4sSJxSOPPFLs3bu3aGlp8TENwzTcPV+7dm1RUVFRfPe73y1+9atfDdyOHj06Wg+h5Ax3z3+Xf0U4fMPd84MHDxbnn39+8bd/+7fFa6+9Vnz/+98vpkyZUvzDP/zDaD2EkjPcPW9paSnOP//84l/+5V+KAwcOFD/4wQ+Kiy++uPjc5z43Wg+h5Bw9erTYvXt3sXv37iIiikcffbTYvXt38Ytf/KIoiqJYsWJFsWjRooHj3/2Yhr//+78v9u7dW6xfv97HNIxlX/va14oLL7ywqKioKObNm1f827/928B/u+6664olS5YMOv7b3/52cckllxQVFRXFJz/5yWLLli0jPHHpG86ef+QjHyki4qRbS0vLyA9ewob7c/5/CawzM9w9f/nll4v6+vqisrKyuOiii4qvfOUrxYkTJ0Z46tI2nD0/fvx48aUvfam4+OKLi6qqqqKurq646667iv/6r/8a+cFL1I9+9KMh/35+d5+XLFlSXHfddSedM3v27KKioqK46KKLin/+538e8bnPpglF4fonAEAm78ECAEgmsAAAkgksAIBkAgsAIJnAAgBIJrAAAJIJLACAZAILACCZwAIASCawAACSCSwAgGQCCwAgmcACAEgmsAAAkgksAIBkAgsAIJnAAgBIJrAAAJIJLACAZAILACCZwAIASCawAACSCSwAgGQCCwAgmcACAEgmsAAAkgksAIBkAgsAIJnAAgBIJrAAAJIJLACAZAILACCZwAIASCawAACSCSwAgGQCCwAgmcACAEgmsAAAkgksAIBkAgsAIJnAAgBIJrAAAJIJLACAZAILACDZ/wPoYEu+1d+OGQAAAABJRU5ErkJggg==' width=600.0/>\n",
       "            </div>\n",
       "        "
      ],
      "text/plain": [
       "Canvas(toolbar=Toolbar(toolitems=[('Home', 'Reset original view', 'home', 'home'), ('Back', 'Back to previous …"
      ]
     },
     "metadata": {},
     "output_type": "display_data"
    }
   ],
   "source": [
    "def update(frame):\n",
    "    x = random.uniform(-1, 1)\n",
    "    y = random.uniform(-1, 1)\n",
    "    if x**2 + y**2 <= 1:\n",
    "        points_inside.append((x, y))\n",
    "    else:\n",
    "        points_outside.append((x, y))\n",
    "\n",
    "    total_points = len(points_inside) + len(points_outside)\n",
    "    pi_estimate = 4 * len(points_inside) / total_points\n",
    "\n",
    "    ax.clear()\n",
    "    ax.set_aspect('equal')\n",
    "    ax.set_xlim(-1, 1)\n",
    "    ax.set_ylim(-1, 1)\n",
    "    ax.set_title(f\"Points: {total_points} | π ≈ {pi_estimate:.6f}\")\n",
    "\n",
    "    # Рисуем круг\n",
    "    circle = plt.Circle((0, 0), 1, color='black', fill=False)\n",
    "    ax.add_artist(circle)\n",
    "\n",
    "    # Отображаем точки\n",
    "    if points_inside:\n",
    "        x_in, y_in = zip(*points_inside)\n",
    "        ax.scatter(x_in, y_in, color='green', s=1)\n",
    "\n",
    "    if points_outside:\n",
    "        x_out, y_out = zip(*points_outside)\n",
    "        ax.scatter(x_out, y_out, color='red', s=1)\n",
    "\n",
    "# Настройка графика\n",
    "fig, ax = plt.subplots(figsize=(6, 6))\n",
    "\n",
    "ani = animation.FuncAnimation(fig, update, frames=number_of_points, interval=50)\n",
    "\n",
    "plt.show()"
   ]
  },
  {
   "cell_type": "code",
   "execution_count": null,
   "id": "f569cd51-c389-48a0-9cc5-0f498fd0704f",
   "metadata": {},
   "outputs": [],
   "source": []
  },
  {
   "cell_type": "code",
   "execution_count": null,
   "id": "53b45019-aa63-4e96-9e70-6430e25d60d5",
   "metadata": {},
   "outputs": [],
   "source": []
  }
 ],
 "metadata": {
  "kernelspec": {
   "display_name": "Python 3 (ipykernel)",
   "language": "python",
   "name": "python3"
  },
  "language_info": {
   "codemirror_mode": {
    "name": "ipython",
    "version": 3
   },
   "file_extension": ".py",
   "mimetype": "text/x-python",
   "name": "python",
   "nbconvert_exporter": "python",
   "pygments_lexer": "ipython3",
   "version": "3.10.12"
  }
 },
 "nbformat": 4,
 "nbformat_minor": 5
}
